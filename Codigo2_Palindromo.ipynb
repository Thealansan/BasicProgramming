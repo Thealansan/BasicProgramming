{
  "nbformat": 4,
  "nbformat_minor": 0,
  "metadata": {
    "colab": {
      "provenance": [],
      "authorship_tag": "ABX9TyPg+2EDYZnUoHaHKV/pI6gh",
      "include_colab_link": true
    },
    "kernelspec": {
      "name": "python3",
      "display_name": "Python 3"
    },
    "language_info": {
      "name": "python"
    }
  },
  "cells": [
    {
      "cell_type": "markdown",
      "metadata": {
        "id": "view-in-github",
        "colab_type": "text"
      },
      "source": [
        "<a href=\"https://colab.research.google.com/github/Thealansan/BasicProgramming/blob/main/Codigo2_Palindromo.ipynb\" target=\"_parent\"><img src=\"https://colab.research.google.com/assets/colab-badge.svg\" alt=\"Open In Colab\"/></a>"
      ]
    },
    {
      "cell_type": "code",
      "execution_count": 7,
      "metadata": {
        "colab": {
          "base_uri": "https://localhost:8080/"
        },
        "id": "ru7bfzyRyiR8",
        "outputId": "c25d00b8-622d-4621-ef6b-ad494cd94e9f"
      },
      "outputs": [
        {
          "output_type": "stream",
          "name": "stdout",
          "text": [
            "Ingrese palabra: ana\n",
            "La palabra es un palindromo? Es un palindromo\n"
          ]
        }
      ],
      "source": [
        "def es_palindromo(palabra):\n",
        "    # Remove whitespace and convert to lowercase\n",
        "    palabra = palabra.replace(\" \", \"\").lower()\n",
        "\n",
        "    # Check if the word is equal to its reverse\n",
        "    if palabra == palabra[::-1]:\n",
        "        return \"Es un palindromo\"\n",
        "    else:\n",
        "        return \"No es un palindromo\"\n",
        "\n",
        "# Test the function with a sample word\n",
        "word_input = input(\"Ingrese palabra: \")\n",
        "es_palindromo_output = es_palindromo(word_input)\n",
        "print(\"La palabra es un palindromo?\", es_palindromo_output)\n",
        "\n"
      ]
    }
  ]
}
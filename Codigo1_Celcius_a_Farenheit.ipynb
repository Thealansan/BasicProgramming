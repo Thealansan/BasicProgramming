{
  "nbformat": 4,
  "nbformat_minor": 0,
  "metadata": {
    "colab": {
      "provenance": [],
      "authorship_tag": "ABX9TyMuNQLQIgMwFvSHyjz9t2v+",
      "include_colab_link": true
    },
    "kernelspec": {
      "name": "python3",
      "display_name": "Python 3"
    },
    "language_info": {
      "name": "python"
    }
  },
  "cells": [
    {
      "cell_type": "markdown",
      "metadata": {
        "id": "view-in-github",
        "colab_type": "text"
      },
      "source": [
        "<a href=\"https://colab.research.google.com/github/Thealansan/BasicProgramming/blob/main/Codigo1_Celcius_a_Farenheit.ipynb\" target=\"_parent\"><img src=\"https://colab.research.google.com/assets/colab-badge.svg\" alt=\"Open In Colab\"/></a>"
      ]
    },
    {
      "cell_type": "code",
      "execution_count": 2,
      "metadata": {
        "colab": {
          "base_uri": "https://localhost:8080/"
        },
        "id": "GIuI_dWKuwE5",
        "outputId": "8c51affe-6ba7-4a31-a615-9a383bb39532"
      },
      "outputs": [
        {
          "output_type": "stream",
          "name": "stdout",
          "text": [
            "Temperatra en Celsius: 50\n",
            "Temperatura en Farenheit: 122.0\n"
          ]
        }
      ],
      "source": [
        "def celsius_a_farenheit(celsius):\n",
        "    farenheit = (celsius * 9/5) + 32\n",
        "    return farenheit\n",
        "\n",
        "# Probamos la función con un ejemplo de temeperatura \n",
        "celsius_input = float(input(\"Temperatra en Celsius: \"))\n",
        "farenheit_output = celsius_a_farenheit(celsius_input)\n",
        "print(\"Temperatura en Farenheit:\", farenheit_output)\n"
      ]
    }
  ]
}
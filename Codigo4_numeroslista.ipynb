{
  "nbformat": 4,
  "nbformat_minor": 0,
  "metadata": {
    "colab": {
      "provenance": [],
      "authorship_tag": "ABX9TyPDZ3LS6VWzjhcrhLA8zcWI",
      "include_colab_link": true
    },
    "kernelspec": {
      "name": "python3",
      "display_name": "Python 3"
    },
    "language_info": {
      "name": "python"
    }
  },
  "cells": [
    {
      "cell_type": "markdown",
      "metadata": {
        "id": "view-in-github",
        "colab_type": "text"
      },
      "source": [
        "<a href=\"https://colab.research.google.com/github/Thealansan/BasicProgramming/blob/main/Codigo4_numeroslista.ipynb\" target=\"_parent\"><img src=\"https://colab.research.google.com/assets/colab-badge.svg\" alt=\"Open In Colab\"/></a>"
      ]
    },
    {
      "cell_type": "code",
      "execution_count": 2,
      "metadata": {
        "colab": {
          "base_uri": "https://localhost:8080/"
        },
        "id": "6vrRYf9BxbRJ",
        "outputId": "cdbe9f24-39b5-40b5-ec4d-6bf8c510c236"
      },
      "outputs": [
        {
          "output_type": "stream",
          "name": "stdout",
          "text": [
            "Ingrese el número 1: 5\n",
            "Ingrese el número 2: 8\n",
            "Ingrese el número 3: 10\n",
            "Ingrese el número 4: 5\n",
            "Ingrese el número 5: 8\n",
            "Ingrese el número 6: -8\n",
            "Ingrese el número 7: -7\n",
            "Ingrese el número 8: -11\n",
            "Ingrese el número 9: 80\n",
            "Ingrese el número 10: 4\n",
            "Números ordenados de mayor a menor:\n",
            "80\n",
            "10\n",
            "8\n",
            "8\n",
            "5\n",
            "5\n",
            "4\n",
            "-7\n",
            "-8\n",
            "-11\n"
          ]
        }
      ],
      "source": [
        "def ordenar_numeros():\n",
        "    numeros = []\n",
        "    for i in range(10):\n",
        "        numero = int(input(\"Ingrese el número {}: \".format(i+1)))\n",
        "        numeros.append(numero)\n",
        "\n",
        "    numeros_ordenados = sorted(numeros, reverse=True)\n",
        "    return numeros_ordenados\n",
        "\n",
        "# Llama a la función para ordenar los números\n",
        "numeros_ordenados = ordenar_numeros()\n",
        "\n",
        "# Muestra los números ordenados de mayor a menor\n",
        "print(\"Números ordenados de mayor a menor:\")\n",
        "for numero in numeros_ordenados:\n",
        "    print(numero)\n",
        "\n"
      ]
    }
  ]
}